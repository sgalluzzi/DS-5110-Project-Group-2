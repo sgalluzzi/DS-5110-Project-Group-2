{
 "cells": [
  {
   "cell_type": "markdown",
   "metadata": {},
   "source": [
    "## 5.11 Final Project Assignment\n",
    "## Group 2\n",
    "## Seth Galluzzi (vzw6yk), Max Jones (maj3js), Said Mrad (sm2yk)"
   ]
  },
  {
   "cell_type": "markdown",
   "metadata": {},
   "source": [
    "## Data Gathering"
   ]
  },
  {
   "cell_type": "code",
   "execution_count": 1,
   "metadata": {},
   "outputs": [],
   "source": [
    "import pandas as pd\n",
    "\n",
    "## Appends each year's defensive dataframe into a list\n",
    "DF_list = [pd.read_csv('https://raw.githubusercontent.com/fantasydatapros/data/master/defense/' + str(i) + '.csv') \n",
    "           for i in range(1966, 2020)] "
   ]
  },
  {
   "cell_type": "code",
   "execution_count": 2,
   "metadata": {},
   "outputs": [],
   "source": [
    "year = 1966\n",
    "\n",
    "## Creates new identifying \"year\" column for each year's dataframe\n",
    "for i in range(0,54):\n",
    "    DF_list[i]['Year'] = year\n",
    "    year += 1"
   ]
  },
  {
   "cell_type": "code",
   "execution_count": 3,
   "metadata": {},
   "outputs": [],
   "source": [
    "## Merges each year's dataframe into one dataframe\n",
    "df_all = pd.concat(DF_list)"
   ]
  },
  {
   "cell_type": "code",
   "execution_count": 4,
   "metadata": {},
   "outputs": [],
   "source": [
    "## Removes unnecessary columns\n",
    "df_all = df_all.drop(columns='Unnamed: 0')"
   ]
  },
  {
   "cell_type": "code",
   "execution_count": 5,
   "metadata": {},
   "outputs": [],
   "source": [
    "## Write to github repo\n",
    "\n",
    "df_all.to_csv(\"df_all.csv\")"
   ]
  },
  {
   "cell_type": "markdown",
   "metadata": {},
   "source": [
    "### General Overview of Data Set"
   ]
  },
  {
   "cell_type": "markdown",
   "metadata": {},
   "source": [
    "#### This data set contains various statistics for NFL defenses from 1966-2019"
   ]
  },
  {
   "cell_type": "code",
   "execution_count": 6,
   "metadata": {},
   "outputs": [
    {
     "data": {
      "text/html": [
       "<div>\n",
       "<style scoped>\n",
       "    .dataframe tbody tr th:only-of-type {\n",
       "        vertical-align: middle;\n",
       "    }\n",
       "\n",
       "    .dataframe tbody tr th {\n",
       "        vertical-align: top;\n",
       "    }\n",
       "\n",
       "    .dataframe thead th {\n",
       "        text-align: right;\n",
       "    }\n",
       "</style>\n",
       "<table border=\"1\" class=\"dataframe\">\n",
       "  <thead>\n",
       "    <tr style=\"text-align: right;\">\n",
       "      <th></th>\n",
       "      <th>Tm</th>\n",
       "      <th>PointsAllowed</th>\n",
       "      <th>TotalYardsAllowed</th>\n",
       "      <th>OffensivePlaysAllowed</th>\n",
       "      <th>YardsPerPlay</th>\n",
       "      <th>TO</th>\n",
       "      <th>ForcedFumbles</th>\n",
       "      <th>TotalFirstDownsAllowed</th>\n",
       "      <th>Cmp</th>\n",
       "      <th>PassingAttAllowed</th>\n",
       "      <th>...</th>\n",
       "      <th>StandardReceivingDefRank</th>\n",
       "      <th>RushingDefRank</th>\n",
       "      <th>PPRFantasyPointsAllowed</th>\n",
       "      <th>PPRDefRank</th>\n",
       "      <th>HalfPPRFantasyPointsAllowed</th>\n",
       "      <th>HalfPPRDefRank</th>\n",
       "      <th>StandardFantasyPointsAllowed</th>\n",
       "      <th>StandardDefRank</th>\n",
       "      <th>Year</th>\n",
       "      <th>EXP</th>\n",
       "    </tr>\n",
       "  </thead>\n",
       "  <tbody>\n",
       "    <tr>\n",
       "      <th>0</th>\n",
       "      <td>Green Bay Packers</td>\n",
       "      <td>163.0</td>\n",
       "      <td>3603.0</td>\n",
       "      <td>883.0</td>\n",
       "      <td>4.1</td>\n",
       "      <td>42.0</td>\n",
       "      <td>14.0</td>\n",
       "      <td>211.0</td>\n",
       "      <td>202.0</td>\n",
       "      <td>390.0</td>\n",
       "      <td>...</td>\n",
       "      <td>1.0</td>\n",
       "      <td>5.0</td>\n",
       "      <td>680.66</td>\n",
       "      <td>1.0</td>\n",
       "      <td>579.66</td>\n",
       "      <td>1.0</td>\n",
       "      <td>478.66</td>\n",
       "      <td>1.0</td>\n",
       "      <td>1966</td>\n",
       "      <td>NaN</td>\n",
       "    </tr>\n",
       "    <tr>\n",
       "      <th>1</th>\n",
       "      <td>Los Angeles Rams</td>\n",
       "      <td>212.0</td>\n",
       "      <td>3771.0</td>\n",
       "      <td>852.0</td>\n",
       "      <td>4.4</td>\n",
       "      <td>46.0</td>\n",
       "      <td>20.0</td>\n",
       "      <td>196.0</td>\n",
       "      <td>190.0</td>\n",
       "      <td>406.0</td>\n",
       "      <td>...</td>\n",
       "      <td>7.0</td>\n",
       "      <td>2.0</td>\n",
       "      <td>763.86</td>\n",
       "      <td>2.0</td>\n",
       "      <td>668.86</td>\n",
       "      <td>2.0</td>\n",
       "      <td>573.86</td>\n",
       "      <td>2.0</td>\n",
       "      <td>1966</td>\n",
       "      <td>NaN</td>\n",
       "    </tr>\n",
       "    <tr>\n",
       "      <th>2</th>\n",
       "      <td>Baltimore Colts</td>\n",
       "      <td>226.0</td>\n",
       "      <td>4091.0</td>\n",
       "      <td>932.0</td>\n",
       "      <td>4.4</td>\n",
       "      <td>40.0</td>\n",
       "      <td>18.0</td>\n",
       "      <td>245.0</td>\n",
       "      <td>240.0</td>\n",
       "      <td>425.0</td>\n",
       "      <td>...</td>\n",
       "      <td>4.0</td>\n",
       "      <td>4.0</td>\n",
       "      <td>845.42</td>\n",
       "      <td>6.0</td>\n",
       "      <td>725.42</td>\n",
       "      <td>6.0</td>\n",
       "      <td>605.42</td>\n",
       "      <td>5.0</td>\n",
       "      <td>1966</td>\n",
       "      <td>NaN</td>\n",
       "    </tr>\n",
       "    <tr>\n",
       "      <th>3</th>\n",
       "      <td>Dallas Cowboys</td>\n",
       "      <td>239.0</td>\n",
       "      <td>3558.0</td>\n",
       "      <td>873.0</td>\n",
       "      <td>4.1</td>\n",
       "      <td>31.0</td>\n",
       "      <td>14.0</td>\n",
       "      <td>221.0</td>\n",
       "      <td>212.0</td>\n",
       "      <td>457.0</td>\n",
       "      <td>...</td>\n",
       "      <td>8.0</td>\n",
       "      <td>1.0</td>\n",
       "      <td>807.08</td>\n",
       "      <td>4.0</td>\n",
       "      <td>701.08</td>\n",
       "      <td>4.0</td>\n",
       "      <td>595.08</td>\n",
       "      <td>3.0</td>\n",
       "      <td>1966</td>\n",
       "      <td>NaN</td>\n",
       "    </tr>\n",
       "    <tr>\n",
       "      <th>4</th>\n",
       "      <td>Cleveland Browns</td>\n",
       "      <td>259.0</td>\n",
       "      <td>4266.0</td>\n",
       "      <td>891.0</td>\n",
       "      <td>4.8</td>\n",
       "      <td>49.0</td>\n",
       "      <td>19.0</td>\n",
       "      <td>255.0</td>\n",
       "      <td>221.0</td>\n",
       "      <td>406.0</td>\n",
       "      <td>...</td>\n",
       "      <td>6.0</td>\n",
       "      <td>9.0</td>\n",
       "      <td>856.48</td>\n",
       "      <td>7.0</td>\n",
       "      <td>745.98</td>\n",
       "      <td>7.0</td>\n",
       "      <td>635.48</td>\n",
       "      <td>7.0</td>\n",
       "      <td>1966</td>\n",
       "      <td>NaN</td>\n",
       "    </tr>\n",
       "    <tr>\n",
       "      <th>...</th>\n",
       "      <td>...</td>\n",
       "      <td>...</td>\n",
       "      <td>...</td>\n",
       "      <td>...</td>\n",
       "      <td>...</td>\n",
       "      <td>...</td>\n",
       "      <td>...</td>\n",
       "      <td>...</td>\n",
       "      <td>...</td>\n",
       "      <td>...</td>\n",
       "      <td>...</td>\n",
       "      <td>...</td>\n",
       "      <td>...</td>\n",
       "      <td>...</td>\n",
       "      <td>...</td>\n",
       "      <td>...</td>\n",
       "      <td>...</td>\n",
       "      <td>...</td>\n",
       "      <td>...</td>\n",
       "      <td>...</td>\n",
       "      <td>...</td>\n",
       "    </tr>\n",
       "    <tr>\n",
       "      <th>27</th>\n",
       "      <td>Arizona Cardinals</td>\n",
       "      <td>442.0</td>\n",
       "      <td>6432.0</td>\n",
       "      <td>1080.0</td>\n",
       "      <td>6.0</td>\n",
       "      <td>17.0</td>\n",
       "      <td>10.0</td>\n",
       "      <td>375.0</td>\n",
       "      <td>421.0</td>\n",
       "      <td>601.0</td>\n",
       "      <td>...</td>\n",
       "      <td>32.0</td>\n",
       "      <td>13.0</td>\n",
       "      <td>1644.60</td>\n",
       "      <td>32.0</td>\n",
       "      <td>1434.10</td>\n",
       "      <td>32.0</td>\n",
       "      <td>1223.60</td>\n",
       "      <td>31.0</td>\n",
       "      <td>2019</td>\n",
       "      <td>-174.55</td>\n",
       "    </tr>\n",
       "    <tr>\n",
       "      <th>28</th>\n",
       "      <td>Tampa Bay Buccaneers</td>\n",
       "      <td>449.0</td>\n",
       "      <td>5503.0</td>\n",
       "      <td>1073.0</td>\n",
       "      <td>5.1</td>\n",
       "      <td>28.0</td>\n",
       "      <td>16.0</td>\n",
       "      <td>331.0</td>\n",
       "      <td>408.0</td>\n",
       "      <td>664.0</td>\n",
       "      <td>...</td>\n",
       "      <td>28.0</td>\n",
       "      <td>1.0</td>\n",
       "      <td>1441.18</td>\n",
       "      <td>24.0</td>\n",
       "      <td>1237.18</td>\n",
       "      <td>23.0</td>\n",
       "      <td>1033.18</td>\n",
       "      <td>19.0</td>\n",
       "      <td>2019</td>\n",
       "      <td>12.23</td>\n",
       "    </tr>\n",
       "    <tr>\n",
       "      <th>29</th>\n",
       "      <td>New York Giants</td>\n",
       "      <td>451.0</td>\n",
       "      <td>6037.0</td>\n",
       "      <td>1061.0</td>\n",
       "      <td>5.7</td>\n",
       "      <td>16.0</td>\n",
       "      <td>6.0</td>\n",
       "      <td>343.0</td>\n",
       "      <td>369.0</td>\n",
       "      <td>556.0</td>\n",
       "      <td>...</td>\n",
       "      <td>26.0</td>\n",
       "      <td>25.0</td>\n",
       "      <td>1523.70</td>\n",
       "      <td>27.0</td>\n",
       "      <td>1339.20</td>\n",
       "      <td>28.0</td>\n",
       "      <td>1154.70</td>\n",
       "      <td>28.0</td>\n",
       "      <td>2019</td>\n",
       "      <td>-105.11</td>\n",
       "    </tr>\n",
       "    <tr>\n",
       "      <th>30</th>\n",
       "      <td>Carolina Panthers</td>\n",
       "      <td>470.0</td>\n",
       "      <td>5992.0</td>\n",
       "      <td>1042.0</td>\n",
       "      <td>5.8</td>\n",
       "      <td>21.0</td>\n",
       "      <td>7.0</td>\n",
       "      <td>355.0</td>\n",
       "      <td>347.0</td>\n",
       "      <td>544.0</td>\n",
       "      <td>...</td>\n",
       "      <td>12.0</td>\n",
       "      <td>32.0</td>\n",
       "      <td>1448.04</td>\n",
       "      <td>25.0</td>\n",
       "      <td>1274.54</td>\n",
       "      <td>25.0</td>\n",
       "      <td>1101.04</td>\n",
       "      <td>24.0</td>\n",
       "      <td>2019</td>\n",
       "      <td>-116.88</td>\n",
       "    </tr>\n",
       "    <tr>\n",
       "      <th>31</th>\n",
       "      <td>Miami Dolphins</td>\n",
       "      <td>494.0</td>\n",
       "      <td>6364.0</td>\n",
       "      <td>1053.0</td>\n",
       "      <td>6.0</td>\n",
       "      <td>16.0</td>\n",
       "      <td>3.0</td>\n",
       "      <td>361.0</td>\n",
       "      <td>344.0</td>\n",
       "      <td>545.0</td>\n",
       "      <td>...</td>\n",
       "      <td>31.0</td>\n",
       "      <td>28.0</td>\n",
       "      <td>1596.32</td>\n",
       "      <td>31.0</td>\n",
       "      <td>1424.32</td>\n",
       "      <td>31.0</td>\n",
       "      <td>1252.32</td>\n",
       "      <td>32.0</td>\n",
       "      <td>2019</td>\n",
       "      <td>-175.02</td>\n",
       "    </tr>\n",
       "  </tbody>\n",
       "</table>\n",
       "<p>1540 rows × 43 columns</p>\n",
       "</div>"
      ],
      "text/plain": [
       "                      Tm  PointsAllowed  TotalYardsAllowed  \\\n",
       "0      Green Bay Packers          163.0             3603.0   \n",
       "1       Los Angeles Rams          212.0             3771.0   \n",
       "2        Baltimore Colts          226.0             4091.0   \n",
       "3         Dallas Cowboys          239.0             3558.0   \n",
       "4       Cleveland Browns          259.0             4266.0   \n",
       "..                   ...            ...                ...   \n",
       "27     Arizona Cardinals          442.0             6432.0   \n",
       "28  Tampa Bay Buccaneers          449.0             5503.0   \n",
       "29       New York Giants          451.0             6037.0   \n",
       "30     Carolina Panthers          470.0             5992.0   \n",
       "31        Miami Dolphins          494.0             6364.0   \n",
       "\n",
       "    OffensivePlaysAllowed  YardsPerPlay    TO  ForcedFumbles  \\\n",
       "0                   883.0           4.1  42.0           14.0   \n",
       "1                   852.0           4.4  46.0           20.0   \n",
       "2                   932.0           4.4  40.0           18.0   \n",
       "3                   873.0           4.1  31.0           14.0   \n",
       "4                   891.0           4.8  49.0           19.0   \n",
       "..                    ...           ...   ...            ...   \n",
       "27                 1080.0           6.0  17.0           10.0   \n",
       "28                 1073.0           5.1  28.0           16.0   \n",
       "29                 1061.0           5.7  16.0            6.0   \n",
       "30                 1042.0           5.8  21.0            7.0   \n",
       "31                 1053.0           6.0  16.0            3.0   \n",
       "\n",
       "    TotalFirstDownsAllowed    Cmp  PassingAttAllowed  ...  \\\n",
       "0                    211.0  202.0              390.0  ...   \n",
       "1                    196.0  190.0              406.0  ...   \n",
       "2                    245.0  240.0              425.0  ...   \n",
       "3                    221.0  212.0              457.0  ...   \n",
       "4                    255.0  221.0              406.0  ...   \n",
       "..                     ...    ...                ...  ...   \n",
       "27                   375.0  421.0              601.0  ...   \n",
       "28                   331.0  408.0              664.0  ...   \n",
       "29                   343.0  369.0              556.0  ...   \n",
       "30                   355.0  347.0              544.0  ...   \n",
       "31                   361.0  344.0              545.0  ...   \n",
       "\n",
       "    StandardReceivingDefRank  RushingDefRank  PPRFantasyPointsAllowed  \\\n",
       "0                        1.0             5.0                   680.66   \n",
       "1                        7.0             2.0                   763.86   \n",
       "2                        4.0             4.0                   845.42   \n",
       "3                        8.0             1.0                   807.08   \n",
       "4                        6.0             9.0                   856.48   \n",
       "..                       ...             ...                      ...   \n",
       "27                      32.0            13.0                  1644.60   \n",
       "28                      28.0             1.0                  1441.18   \n",
       "29                      26.0            25.0                  1523.70   \n",
       "30                      12.0            32.0                  1448.04   \n",
       "31                      31.0            28.0                  1596.32   \n",
       "\n",
       "    PPRDefRank  HalfPPRFantasyPointsAllowed  HalfPPRDefRank  \\\n",
       "0          1.0                       579.66             1.0   \n",
       "1          2.0                       668.86             2.0   \n",
       "2          6.0                       725.42             6.0   \n",
       "3          4.0                       701.08             4.0   \n",
       "4          7.0                       745.98             7.0   \n",
       "..         ...                          ...             ...   \n",
       "27        32.0                      1434.10            32.0   \n",
       "28        24.0                      1237.18            23.0   \n",
       "29        27.0                      1339.20            28.0   \n",
       "30        25.0                      1274.54            25.0   \n",
       "31        31.0                      1424.32            31.0   \n",
       "\n",
       "    StandardFantasyPointsAllowed  StandardDefRank  Year     EXP  \n",
       "0                         478.66              1.0  1966     NaN  \n",
       "1                         573.86              2.0  1966     NaN  \n",
       "2                         605.42              5.0  1966     NaN  \n",
       "3                         595.08              3.0  1966     NaN  \n",
       "4                         635.48              7.0  1966     NaN  \n",
       "..                           ...              ...   ...     ...  \n",
       "27                       1223.60             31.0  2019 -174.55  \n",
       "28                       1033.18             19.0  2019   12.23  \n",
       "29                       1154.70             28.0  2019 -105.11  \n",
       "30                       1101.04             24.0  2019 -116.88  \n",
       "31                       1252.32             32.0  2019 -175.02  \n",
       "\n",
       "[1540 rows x 43 columns]"
      ]
     },
     "execution_count": 6,
     "metadata": {},
     "output_type": "execute_result"
    }
   ],
   "source": [
    "df_all"
   ]
  },
  {
   "cell_type": "markdown",
   "metadata": {},
   "source": [
    "### Number of records"
   ]
  },
  {
   "cell_type": "code",
   "execution_count": 7,
   "metadata": {},
   "outputs": [
    {
     "data": {
      "text/plain": [
       "1540"
      ]
     },
     "execution_count": 7,
     "metadata": {},
     "output_type": "execute_result"
    }
   ],
   "source": [
    "df_all.shape[0]"
   ]
  },
  {
   "cell_type": "markdown",
   "metadata": {},
   "source": [
    "### Number of columns"
   ]
  },
  {
   "cell_type": "code",
   "execution_count": 8,
   "metadata": {},
   "outputs": [
    {
     "data": {
      "text/plain": [
       "43"
      ]
     },
     "execution_count": 8,
     "metadata": {},
     "output_type": "execute_result"
    }
   ],
   "source": [
    "len([i for i in df_all])"
   ]
  },
  {
   "cell_type": "markdown",
   "metadata": {},
   "source": [
    "### Total columns for consideration"
   ]
  },
  {
   "cell_type": "code",
   "execution_count": 9,
   "metadata": {},
   "outputs": [
    {
     "data": {
      "text/plain": [
       "['Tm',\n",
       " 'PointsAllowed',\n",
       " 'TotalYardsAllowed',\n",
       " 'OffensivePlaysAllowed',\n",
       " 'YardsPerPlay',\n",
       " 'TO',\n",
       " 'ForcedFumbles',\n",
       " 'TotalFirstDownsAllowed',\n",
       " 'Cmp',\n",
       " 'PassingAttAllowed',\n",
       " 'PassingYardsAllowed',\n",
       " 'PassingTDAllowed',\n",
       " 'Int',\n",
       " 'NetYardsAllowedPerPass',\n",
       " 'PassingFirstDownsAllowed',\n",
       " 'RushingAttAllowed',\n",
       " 'RushingYdsAllowed',\n",
       " 'RushingTDAllowed',\n",
       " 'YardsPerRushAllowed',\n",
       " 'RushingFirstDownsAllowed',\n",
       " 'PenaltiesCommitted',\n",
       " 'PenaltyYardsAllowed',\n",
       " 'FirstDownsViaPenalty',\n",
       " 'PercentageOfDrivesEndingInOffensiveScores',\n",
       " 'PercentDrivesEndingInTO',\n",
       " 'PassingFantasyPointsAllowed',\n",
       " 'PPRReceivingFantasyPointsAllowed',\n",
       " 'HalfPPRReceivingFantasyPointsAllowed',\n",
       " 'StandardReceivingFantasyPointsAllowed',\n",
       " 'RushingFantasyPointsAllowed',\n",
       " 'PassingDefRank',\n",
       " 'PPRReceivingDefRank',\n",
       " 'HalfPPRReceivingDefRank',\n",
       " 'StandardReceivingDefRank',\n",
       " 'RushingDefRank',\n",
       " 'PPRFantasyPointsAllowed',\n",
       " 'PPRDefRank',\n",
       " 'HalfPPRFantasyPointsAllowed',\n",
       " 'HalfPPRDefRank',\n",
       " 'StandardFantasyPointsAllowed',\n",
       " 'StandardDefRank',\n",
       " 'Year',\n",
       " 'EXP']"
      ]
     },
     "execution_count": 9,
     "metadata": {},
     "output_type": "execute_result"
    }
   ],
   "source": [
    "[i for i in df_all]"
   ]
  },
  {
   "cell_type": "markdown",
   "metadata": {},
   "source": [
    "### Statistical summary of response variable"
   ]
  },
  {
   "cell_type": "markdown",
   "metadata": {},
   "source": [
    "#### We will predict on PPRFantasy Points Allowed to rank defenses. We will need to do some slight data manipulation here--currently, each row contains a team's PPR Fantasy Points Allowed for how their corresponding seasonal statistics turned out, but we want to predict how their stats relate to the next season. To do so, we will need to move each PPR Fantasy Points Allowed up a row (we want the 1966 season data to predict 1967 final standings, for example, not the 1966 final standings), and we will need to find or manually add the 2020 final standings to add to the 2019 season data"
   ]
  },
  {
   "cell_type": "code",
   "execution_count": 10,
   "metadata": {},
   "outputs": [
    {
     "data": {
      "text/plain": [
       "count    1540.000000\n",
       "mean     1132.555753\n",
       "std       210.978349\n",
       "min       449.280000\n",
       "25%      1008.215000\n",
       "50%      1155.090000\n",
       "75%      1283.805000\n",
       "max      1693.260000\n",
       "Name: PPRFantasyPointsAllowed, dtype: float64"
      ]
     },
     "execution_count": 10,
     "metadata": {},
     "output_type": "execute_result"
    }
   ],
   "source": [
    "df_all['PPRFantasyPointsAllowed'].describe()"
   ]
  },
  {
   "cell_type": "markdown",
   "metadata": {},
   "source": [
    "### Statistical summary of potential predictor variables (top 10)"
   ]
  },
  {
   "cell_type": "markdown",
   "metadata": {},
   "source": [
    "#### We have over 30 potential predictor variables. Currently, we estimate that these will be the most influential"
   ]
  },
  {
   "cell_type": "code",
   "execution_count": 11,
   "metadata": {},
   "outputs": [
    {
     "data": {
      "text/plain": [
       "count    1540.000000\n",
       "mean      324.203896\n",
       "std        68.499304\n",
       "min       128.000000\n",
       "25%       282.000000\n",
       "50%       325.000000\n",
       "75%       372.000000\n",
       "max       533.000000\n",
       "Name: PointsAllowed, dtype: float64"
      ]
     },
     "execution_count": 11,
     "metadata": {},
     "output_type": "execute_result"
    }
   ],
   "source": [
    "df_all['PointsAllowed'].describe()"
   ]
  },
  {
   "cell_type": "code",
   "execution_count": 12,
   "metadata": {},
   "outputs": [
    {
     "data": {
      "text/plain": [
       "count    1540.000000\n",
       "mean     4986.421429\n",
       "std       735.197734\n",
       "min      2312.000000\n",
       "25%      4577.500000\n",
       "50%      5083.500000\n",
       "75%      5487.000000\n",
       "max      7042.000000\n",
       "Name: TotalYardsAllowed, dtype: float64"
      ]
     },
     "execution_count": 12,
     "metadata": {},
     "output_type": "execute_result"
    }
   ],
   "source": [
    "df_all['TotalYardsAllowed'].describe()"
   ]
  },
  {
   "cell_type": "code",
   "execution_count": 13,
   "metadata": {},
   "outputs": [
    {
     "data": {
      "text/plain": [
       "count    1540.000000\n",
       "mean      983.578571\n",
       "std        90.014956\n",
       "min       531.000000\n",
       "25%       950.000000\n",
       "50%      1000.000000\n",
       "75%      1040.000000\n",
       "max      1159.000000\n",
       "Name: OffensivePlaysAllowed, dtype: float64"
      ]
     },
     "execution_count": 13,
     "metadata": {},
     "output_type": "execute_result"
    }
   ],
   "source": [
    "df_all['OffensivePlaysAllowed'].describe()"
   ]
  },
  {
   "cell_type": "code",
   "execution_count": 14,
   "metadata": {},
   "outputs": [
    {
     "data": {
      "text/plain": [
       "count    1540.000000\n",
       "mean        5.056299\n",
       "std         0.480165\n",
       "min         3.400000\n",
       "25%         4.700000\n",
       "50%         5.100000\n",
       "75%         5.400000\n",
       "max         6.600000\n",
       "Name: YardsPerPlay, dtype: float64"
      ]
     },
     "execution_count": 14,
     "metadata": {},
     "output_type": "execute_result"
    }
   ],
   "source": [
    "df_all['YardsPerPlay'].describe()"
   ]
  },
  {
   "cell_type": "code",
   "execution_count": 15,
   "metadata": {},
   "outputs": [
    {
     "data": {
      "text/plain": [
       "count    1540.000000\n",
       "mean       30.619481\n",
       "std         8.282497\n",
       "min         7.000000\n",
       "25%        25.000000\n",
       "50%        30.000000\n",
       "75%        36.000000\n",
       "max        63.000000\n",
       "Name: TO, dtype: float64"
      ]
     },
     "execution_count": 15,
     "metadata": {},
     "output_type": "execute_result"
    }
   ],
   "source": [
    "df_all['TO'].describe()"
   ]
  },
  {
   "cell_type": "code",
   "execution_count": 16,
   "metadata": {},
   "outputs": [
    {
     "data": {
      "text/plain": [
       "count    1540.000000\n",
       "mean       13.038312\n",
       "std         4.544541\n",
       "min         2.000000\n",
       "25%        10.000000\n",
       "50%        13.000000\n",
       "75%        16.000000\n",
       "max        28.000000\n",
       "Name: ForcedFumbles, dtype: float64"
      ]
     },
     "execution_count": 16,
     "metadata": {},
     "output_type": "execute_result"
    }
   ],
   "source": [
    "df_all['ForcedFumbles'].describe()"
   ]
  },
  {
   "cell_type": "code",
   "execution_count": 17,
   "metadata": {},
   "outputs": [
    {
     "data": {
      "text/plain": [
       "count    1540.000000\n",
       "mean      287.955844\n",
       "std        41.458552\n",
       "min       147.000000\n",
       "25%       266.000000\n",
       "50%       293.000000\n",
       "75%       316.000000\n",
       "max       419.000000\n",
       "Name: TotalFirstDownsAllowed, dtype: float64"
      ]
     },
     "execution_count": 17,
     "metadata": {},
     "output_type": "execute_result"
    }
   ],
   "source": [
    "df_all['TotalFirstDownsAllowed'].describe()"
   ]
  },
  {
   "cell_type": "code",
   "execution_count": 18,
   "metadata": {},
   "outputs": [
    {
     "data": {
      "text/plain": [
       "count    1540.000000\n",
       "mean      284.021429\n",
       "std        62.173646\n",
       "min       114.000000\n",
       "25%       247.000000\n",
       "50%       294.000000\n",
       "75%       328.000000\n",
       "max       425.000000\n",
       "Name: Cmp, dtype: float64"
      ]
     },
     "execution_count": 18,
     "metadata": {},
     "output_type": "execute_result"
    }
   ],
   "source": [
    "df_all['Cmp'].describe()"
   ]
  },
  {
   "cell_type": "code",
   "execution_count": 19,
   "metadata": {},
   "outputs": [
    {
     "data": {
      "text/plain": [
       "count    1540.000000\n",
       "mean      491.311039\n",
       "std        80.959604\n",
       "min       226.000000\n",
       "25%       449.000000\n",
       "50%       509.000000\n",
       "75%       547.000000\n",
       "max       670.000000\n",
       "Name: PassingAttAllowed, dtype: float64"
      ]
     },
     "execution_count": 19,
     "metadata": {},
     "output_type": "execute_result"
    }
   ],
   "source": [
    "df_all['PassingAttAllowed'].describe()"
   ]
  },
  {
   "cell_type": "code",
   "execution_count": 20,
   "metadata": {},
   "outputs": [
    {
     "data": {
      "text/plain": [
       "count    1540.000000\n",
       "mean       20.572727\n",
       "std         5.982151\n",
       "min         4.000000\n",
       "25%        16.000000\n",
       "50%        20.000000\n",
       "75%        25.000000\n",
       "max        45.000000\n",
       "Name: PassingTDAllowed, dtype: float64"
      ]
     },
     "execution_count": 20,
     "metadata": {},
     "output_type": "execute_result"
    }
   ],
   "source": [
    "df_all['PassingTDAllowed'].describe()"
   ]
  },
  {
   "cell_type": "markdown",
   "metadata": {},
   "source": [
    "### Helpful Visualizing Graphs"
   ]
  },
  {
   "cell_type": "markdown",
   "metadata": {},
   "source": [
    "#### 1. As the game has changed, passing producion especially has increased, as we can see from how completions have trended upward continually. This has largely been due to gameplay changes, but part of it is due to the number of games increasing over time. To account for this in our modeling, we will need to adjust each stat into a per-game basis instead of per-season"
   ]
  },
  {
   "cell_type": "code",
   "execution_count": 21,
   "metadata": {},
   "outputs": [
    {
     "data": {
      "text/plain": [
       "Text(0.5, 1.0, 'Completions Against Year')"
      ]
     },
     "execution_count": 21,
     "metadata": {},
     "output_type": "execute_result"
    },
    {
     "data": {
      "image/png": "[encoded data removed]",
      "text/plain": [
       "<Figure size 432x288 with 1 Axes>"
      ]
     },
     "metadata": {
      "needs_background": "light"
     },
     "output_type": "display_data"
    }
   ],
   "source": [
    "import matplotlib.pyplot as plt\n",
    "plt.scatter(df_all['Year'], df_all['Cmp'])\n",
    "plt.xlabel(\"Year\")\n",
    "plt.ylabel(\"Completions\")\n",
    "plt.title(\"Year versus Completions Scatterplot\")"
   ]
  },
  {
   "cell_type": "code",
   "execution_count": null,
   "metadata": {},
   "outputs": [],
   "source": []
  },
  {
   "cell_type": "markdown",
   "metadata": {},
   "source": [
    "#### 2. Looking at our response variable across time, a couple things stand out. One, this seems to correlate pretty well with the pattern of completions increasing over time, and two, the season around 1982 appears to be an outlier--think this may be the strike season. Even after adjusting with per game statistics, we may still wish to simply remove this season from consideration"
   ]
  },
  {
   "cell_type": "code",
   "execution_count": 22,
   "metadata": {},
   "outputs": [
    {
     "data": {
      "text/plain": [
       "Text(0, 0.5, 'PPRFantasyPointsAllowed')"
      ]
     },
     "execution_count": 22,
     "metadata": {},
     "output_type": "execute_result"
    },
    {
     "data": {
      "image/png": "[encoded data removed]",
      "text/plain": [
       "<Figure size 432x288 with 1 Axes>"
      ]
     },
     "metadata": {
      "needs_background": "light"
     },
     "output_type": "display_data"
    }
   ],
   "source": [
    "plt.scatter(df_all['Year'], df_all['PPRFantasyPointsAllowed'])\n",
    "plt.xlabel(\"Year\")\n",
    "plt.ylabel(\"PPRFantasyPointsAllowed\")\n",
    "plt.title('Year vs. Fantasy Points Allowed (PPR) Scatterplot')"
   ]
  },
  {
   "cell_type": "markdown",
   "metadata": {},
   "source": [
    "#### 3. Interestingly, turnovers have decreased over time, even without adjusting on a per-game basis. "
   ]
  },
  {
   "cell_type": "code",
   "execution_count": 23,
   "metadata": {},
   "outputs": [
    {
     "data": {
      "text/plain": [
       "Text(0, 0.5, 'Turnovers')"
      ]
     },
     "execution_count": 23,
     "metadata": {},
     "output_type": "execute_result"
    },
    {
     "data": {
      "image/png": "[encoded data removed]",
      "text/plain": [
       "<Figure size 432x288 with 1 Axes>"
      ]
     },
     "metadata": {
      "needs_background": "light"
     },
     "output_type": "display_data"
    }
   ],
   "source": [
    "plt.scatter(df_all['Year'], df_all['TO'])\n",
    "plt.xlabel(\"Year\")\n",
    "plt.ylabel(\"Turnovers\")\n",
    "plt.title('Year versus Turnovers Scatterplot')"
   ]
  },
  {
   "cell_type": "markdown",
   "metadata": {},
   "source": [
    "#### And, as we would expect, the more turnovers a team has, the fewer fantasy points they would have allowed"
   ]
  },
  {
   "cell_type": "code",
   "execution_count": 24,
   "metadata": {},
   "outputs": [
    {
     "data": {
      "text/plain": [
       "Text(0, 0.5, 'PPRFantasyPointsAllowed')"
      ]
     },
     "execution_count": 24,
     "metadata": {},
     "output_type": "execute_result"
    },
    {
     "data": {
      "image/png": "[encoded data removed]",
      "text/plain": [
       "<Figure size 432x288 with 1 Axes>"
      ]
     },
     "metadata": {
      "needs_background": "light"
     },
     "output_type": "display_data"
    }
   ],
   "source": [
    "plt.scatter(df_all['PPRFantasyPointsAllowed'], df_all['TO'])\n",
    "plt.xlabel(\"Turnovers\")\n",
    "plt.ylabel(\"PPRFantasyPointsAllowed\")\n",
    "plt.title('Turnovers versus Fantasy Points Allowed (PPR) Scatterplot')"
   ]
  },
  {
   "cell_type": "markdown",
   "metadata": {},
   "source": [
    "#### 4. Confirming our thoughts, while passing yards have increased quite a bit over time, rushing yards have remained just about stagnant."
   ]
  },
  {
   "cell_type": "code",
   "execution_count": 25,
   "metadata": {},
   "outputs": [
    {
     "data": {
      "text/plain": [
       "Text(0, 0.5, 'Rushing Yards Allowed')"
      ]
     },
     "execution_count": 25,
     "metadata": {},
     "output_type": "execute_result"
    },
    {
     "data": {
      "image/png": "[encoded data removed]",
      "text/plain": [
       "<Figure size 432x288 with 1 Axes>"
      ]
     },
     "metadata": {
      "needs_background": "light"
     },
     "output_type": "display_data"
    }
   ],
   "source": [
    "plt.scatter(df_all['Year'], df_all['RushingYdsAllowed'])\n",
    "plt.xlabel(\"Year\")\n",
    "plt.ylabel(\"Rushing Yards Allowed\")\n",
    "plt.title('Year versus Rushing Yards Allowed Scatterplot')"
   ]
  },
  {
   "cell_type": "code",
   "execution_count": 26,
   "metadata": {},
   "outputs": [
    {
     "data": {
      "text/plain": [
       "Text(0, 0.5, 'Passing Yards Allowed')"
      ]
     },
     "execution_count": 26,
     "metadata": {},
     "output_type": "execute_result"
    },
    {
     "data": {
      "image/png": "[encoded data removed]",
      "text/plain": [
       "<Figure size 432x288 with 1 Axes>"
      ]
     },
     "metadata": {
      "needs_background": "light"
     },
     "output_type": "display_data"
    }
   ],
   "source": [
    "plt.scatter(df_all['Year'], df_all['PassingYardsAllowed'])\n",
    "plt.xlabel(\"Year\")\n",
    "plt.ylabel(\"Passing Yards Allowed\")\n",
    "plt.title('Year versus Passing Yards Allowed Scatterplot')"
   ]
  },
  {
   "cell_type": "markdown",
   "metadata": {},
   "source": [
    "#### And looking at PPR Fantasy Points Allowed, the rushing yards allowed has a much higher spread, while the passing yards allowed is very close together. We would expect passing yards to have a more precise effect in our model compared to rushing yards"
   ]
  },
  {
   "cell_type": "code",
   "execution_count": 27,
   "metadata": {},
   "outputs": [
    {
     "data": {
      "text/plain": [
       "Text(0, 0.5, 'PPRFantasyPointsAllowed')"
      ]
     },
     "execution_count": 27,
     "metadata": {},
     "output_type": "execute_result"
    },
    {
     "data": {
      "image/png": "[encoded data removed]",
      "text/plain": [
       "<Figure size 432x288 with 1 Axes>"
      ]
     },
     "metadata": {
      "needs_background": "light"
     },
     "output_type": "display_data"
    }
   ],
   "source": [
    "plt.scatter(df_all['RushingYdsAllowed'], df_all['PPRFantasyPointsAllowed'])\n",
    "plt.xlabel(\"Rushing Yards Allowed\")\n",
    "plt.ylabel(\"PPRFantasyPointsAllowed\")\n",
    "plt.title('Rushing Yards Allowed versus Fantasy Points (PPR) Scatterplot')"
   ]
  },
  {
   "cell_type": "code",
   "execution_count": 28,
   "metadata": {},
   "outputs": [
    {
     "data": {
      "text/plain": [
       "Text(0, 0.5, 'PPRFantasyPointsAllowed')"
      ]
     },
     "execution_count": 28,
     "metadata": {},
     "output_type": "execute_result"
    },
    {
     "data": {
      "image/png": "[encoded data removed]",
      "text/plain": [
       "<Figure size 432x288 with 1 Axes>"
      ]
     },
     "metadata": {
      "needs_background": "light"
     },
     "output_type": "display_data"
    }
   ],
   "source": [
    "plt.scatter(df_all['PassingYardsAllowed'], df_all['PPRFantasyPointsAllowed'])\n",
    "plt.xlabel(\"Passing Yards Allowed\")\n",
    "plt.ylabel(\"PPRFantasyPointsAllowed\")\n",
    "plt.title('Passing Yards Allowed versus Fantasy Points Allowed (PPR) Scatterplot')"
   ]
  },
  {
   "cell_type": "markdown",
   "metadata": {},
   "source": [
    "#### 5. Getting a bit more granular, we were interested in how passing first downs might affect Fantasy PPR points allowed, and this correlated almost perfectly with passing yards allowed. We thought there might be some variation here, but all the information in passing first downs allowed stat for predicting PPRFantasyPointsAllowed is likely contained in the Passing Yards Allowed stat, so we do not expect it to be significant."
   ]
  },
  {
   "cell_type": "code",
   "execution_count": 29,
   "metadata": {},
   "outputs": [
    {
     "data": {
      "text/plain": [
       "Text(0, 0.5, 'PPRFantasyPointsAllowed')"
      ]
     },
     "execution_count": 29,
     "metadata": {},
     "output_type": "execute_result"
    },
    {
     "data": {
      "image/png": "[encoded data removed]",
      "text/plain": [
       "<Figure size 432x288 with 1 Axes>"
      ]
     },
     "metadata": {
      "needs_background": "light"
     },
     "output_type": "display_data"
    }
   ],
   "source": [
    "plt.scatter(df_all['PassingFirstDownsAllowed'], df_all['PPRFantasyPointsAllowed'])\n",
    "plt.xlabel(\"PassingFirstDownsAllowed\")\n",
    "plt.ylabel(\"PPRFantasyPointsAllowed\")\n",
    "plt.title('Passing Yards Allowed versus Fantasy Points Allowed (PPR) Scatterplot')"
   ]
  },
  {
   "cell_type": "markdown",
   "metadata": {},
   "source": [
    "### Next Steps"
   ]
  },
  {
   "cell_type": "markdown",
   "metadata": {},
   "source": [
    "Next, we will want to create our new PPRFantasyPointsAllowed stat to predict on future seasons, and from there, we should be ready to create and test out regression models"
   ]
  }
 ],
 "metadata": {
  "kernelspec": {
   "display_name": "Python 3",
   "language": "python",
   "name": "python3"
  },
  "language_info": {
   "codemirror_mode": {
    "name": "ipython",
    "version": 3
   },
   "file_extension": ".py",
   "mimetype": "text/x-python",
   "name": "python",
   "nbconvert_exporter": "python",
   "pygments_lexer": "ipython3",
   "version": "3.8.8"
  }
 },
 "nbformat": 4,
 "nbformat_minor": 4
}
